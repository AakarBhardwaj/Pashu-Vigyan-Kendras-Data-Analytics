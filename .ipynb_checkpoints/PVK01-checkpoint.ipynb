{
 "cells": [
  {
   "cell_type": "code",
   "execution_count": 1,
   "id": "aefab9c6",
   "metadata": {},
   "outputs": [],
   "source": [
    "#importing necessary libraries\n",
    "import pandas as pd\n",
    "import numpy as np\n",
    "import matplotlib.pyplot as plt\n",
    "%matplotlib inline\n",
    "import seaborn as sns\n",
    "import warnings\n",
    "warnings.filterwarnings('ignore')\n",
    "import random\n",
    "from faker import Faker\n",
    "from datetime import datetime"
   ]
  },
  {
   "cell_type": "code",
   "execution_count": 2,
   "id": "dd8f3401",
   "metadata": {},
   "outputs": [],
   "source": [
    "#generating CC_ID purchase wise\n",
    "CC_ID=[random.randint(1,4) for _ in range(0,5000)]"
   ]
  },
  {
   "cell_type": "code",
   "execution_count": 3,
   "id": "17cc0a38",
   "metadata": {},
   "outputs": [],
   "source": [
    "#generating GS_ID purchase wise\n",
    "GS_ID=[]\n",
    "for i in CC_ID:\n",
    "    if i==1:\n",
    "        GS_ID.append(random.randint(1,10))\n",
    "    elif i==2:\n",
    "        GS_ID.append(random.randint(11,20))\n",
    "    elif i==3:\n",
    "        GS_ID.append(random.randint(21,30))\n",
    "    elif i==4:\n",
    "        GS_ID.append(random.randint(31,40))"
   ]
  },
  {
   "cell_type": "code",
   "execution_count": 4,
   "id": "5aa96d9f",
   "metadata": {},
   "outputs": [],
   "source": [
    "#generating F_ID purchase wise\n",
    "F_ID=[]\n",
    "for i in GS_ID:\n",
    "    F_ID.append(random.randint((i-1)*40+1,i*40))"
   ]
  },
  {
   "cell_type": "code",
   "execution_count": 5,
   "id": "8cb7a3bd",
   "metadata": {},
   "outputs": [],
   "source": [
    "#creating an object of type Faker\n",
    "fake = Faker()"
   ]
  },
  {
   "cell_type": "code",
   "execution_count": 6,
   "id": "3e11dd17",
   "metadata": {},
   "outputs": [],
   "source": [
    "#creating CC_NAME column\n",
    "temp_CC_NAME=[]\n",
    "CC_names=set()\n",
    "while len(CC_names)<4:\n",
    "    CC_names.add(fake.name())\n",
    "CC_names=list(CC_names)\n",
    "for i in range(0,4):\n",
    "    temp_CC_NAME.append((i+1,CC_names[i]))\n",
    "temp_CC_NAME_dict=dict()\n",
    "for i in temp_CC_NAME:\n",
    "    temp_CC_NAME_dict[i[0]]=i[1]\n",
    "CC_NAME=[]\n",
    "for i in CC_ID:\n",
    "    CC_NAME.append(temp_CC_NAME_dict[i])"
   ]
  },
  {
   "cell_type": "code",
   "execution_count": 7,
   "id": "1c71c1e8",
   "metadata": {},
   "outputs": [],
   "source": [
    "#creating GS_NAME column\n",
    "temp_GS_NAME=[]\n",
    "GS_names=set()\n",
    "while len(GS_names)<40:\n",
    "    s=fake.name()\n",
    "    if s not in CC_names:\n",
    "        GS_names.add(s)\n",
    "GS_names=list(GS_names)\n",
    "for i in range(0,40):\n",
    "    temp_GS_NAME.append((i+1,GS_names[i]))\n",
    "temp_GS_NAME_dict=dict()\n",
    "for i in temp_GS_NAME:\n",
    "    temp_GS_NAME_dict[i[0]]=i[1]\n",
    "GS_NAME=[]\n",
    "for i in GS_ID:\n",
    "    GS_NAME.append(temp_GS_NAME_dict[i])"
   ]
  },
  {
   "cell_type": "code",
   "execution_count": 8,
   "id": "d958713c",
   "metadata": {},
   "outputs": [],
   "source": [
    "#creating F_NAME column\n",
    "temp_F_NAME=[]\n",
    "F_names=set()\n",
    "while len(F_names)<1600:\n",
    "    s=fake.name()\n",
    "    if s not in GS_names and s not in CC_names:\n",
    "        F_names.add(s)\n",
    "F_names=list(F_names)        \n",
    "for i in range(0,1600):\n",
    "    temp_F_NAME.append((i+1,F_names[i]))\n",
    "temp_F_NAME_dict=dict()\n",
    "for i in temp_F_NAME:\n",
    "    temp_F_NAME_dict[i[0]]=i[1]\n",
    "F_NAME=[]\n",
    "for i in F_ID:\n",
    "    F_NAME.append(temp_F_NAME_dict[i])"
   ]
  },
  {
   "cell_type": "code",
   "execution_count": 9,
   "id": "c08ecdfb",
   "metadata": {},
   "outputs": [],
   "source": [
    "#creating F_GENDER column\n",
    "temp_F_GENDER=[]\n",
    "for i in range(0,1600):\n",
    "    s=random.choice([\"Male\",\"Female\"])\n",
    "    temp_F_GENDER.append((i+1,s))\n",
    "temp_F_GENDER_dict=dict()\n",
    "for i in temp_F_GENDER:\n",
    "    temp_F_GENDER_dict[i[0]]=i[1]"
   ]
  },
  {
   "cell_type": "code",
   "execution_count": 10,
   "id": "e89e86b0",
   "metadata": {},
   "outputs": [],
   "source": [
    "#creating F_NUMBER column\n",
    "F_numbers=set()\n",
    "F_NUMBER_dict=dict()\n",
    "while len(F_numbers)<1600:\n",
    "    n=random.randint(0,999999999)\n",
    "    s=\"9\"+(9-len(str(n)))*\"0\"+str(n)\n",
    "    F_numbers.add(s)\n",
    "F_numbers=list(F_numbers)\n",
    "for i in range(0,1600):\n",
    "    F_NUMBER_dict[i+1]=F_numbers[i]"
   ]
  },
  {
   "cell_type": "code",
   "execution_count": 11,
   "id": "b1e6fb6f",
   "metadata": {},
   "outputs": [],
   "source": [
    "#creating F_INCOME_MONTHLY column\n",
    "temp_F_INCOME=[]\n",
    "for i in range(0,1600):\n",
    "    temp_F_INCOME.append((i+1,random.randint(10000,25000)))\n",
    "temp_F_INCOME_dict=dict()\n",
    "for i in temp_F_INCOME:\n",
    "    temp_F_INCOME_dict[i[0]]=i[1]"
   ]
  },
  {
   "cell_type": "code",
   "execution_count": 12,
   "id": "a9932b18",
   "metadata": {},
   "outputs": [],
   "source": [
    "#creating F_MEMBERS column\n",
    "F_MEMBERS_dict=dict()\n",
    "for i in range(0,1600):\n",
    "    if temp_F_INCOME_dict[i+1]>=10000 and temp_F_INCOME_dict[i+1]<=15000:\n",
    "        F_MEMBERS_dict[i+1]=random.randint(3,4)\n",
    "    elif temp_F_INCOME_dict[i+1]>15000 and temp_F_INCOME_dict[i+1]<=20000:\n",
    "        F_MEMBERS_dict[i+1]=random.randint(5,6)\n",
    "    else:\n",
    "        F_MEMBERS_dict[i+1]=random.randint(7,8)"
   ]
  },
  {
   "cell_type": "code",
   "execution_count": 13,
   "id": "85ba0aaa",
   "metadata": {},
   "outputs": [],
   "source": [
    "#creating F_MAIN_SOURCE column\n",
    "F_MAIN_SOURCE=[]\n",
    "F_MAIN_SOURCE_dict=dict()\n",
    "for i in range(0,1600):\n",
    "    if temp_F_INCOME_dict[i+1]>=10000 and temp_F_INCOME_dict[i+1]<=15000:\n",
    "        F_MAIN_SOURCE_dict[i+1]=\"Agriculture\"\n",
    "    else:\n",
    "        F_MAIN_SOURCE_dict[i+1]=\"Dairy Farming\""
   ]
  },
  {
   "cell_type": "code",
   "execution_count": 14,
   "id": "e54a74d3",
   "metadata": {},
   "outputs": [],
   "source": [
    "#creating F_COW and F_BUFFALO\n",
    "F_COW=[]\n",
    "F_BUFFALO=[]\n",
    "cow_dict=dict()\n",
    "buffalo_dict=dict()\n",
    "for i in range(0,1600):\n",
    "    if temp_F_INCOME_dict[i+1]>=10000 and temp_F_INCOME_dict[i+1]<=15000:\n",
    "        g=random.randint(1,2)\n",
    "        m=random.randint(1,2)\n",
    "        cow_dict[i+1]=g\n",
    "        buffalo_dict[i+1]=m\n",
    "    elif temp_F_INCOME_dict[i+1]>15000 and temp_F_INCOME_dict[i+1]<=20000:\n",
    "        g=random.randint(3,4)\n",
    "        m=random.randint(2,3)\n",
    "        cow_dict[i+1]=g\n",
    "        buffalo_dict[i+1]=m\n",
    "    else:\n",
    "        g=random.randint(4,5)\n",
    "        m=random.randint(4,5)\n",
    "        cow_dict[i+1]=g\n",
    "        buffalo_dict[i+1]=m"
   ]
  },
  {
   "cell_type": "code",
   "execution_count": 15,
   "id": "8912dec6",
   "metadata": {},
   "outputs": [],
   "source": [
    "#creating F_NUMBER_OF_CATTLE\n",
    "F_NUMBER_OF_CATTLE=[]\n",
    "F_NUMBER_OF_CATTLE_dict=dict()\n",
    "for i in range(0,1600):\n",
    "    F_NUMBER_OF_CATTLE_dict[i+1]=cow_dict[i+1]+buffalo_dict[i+1]\n",
    "for i in F_ID:\n",
    "    F_NUMBER_OF_CATTLE.append(F_NUMBER_OF_CATTLE_dict[i])"
   ]
  },
  {
   "cell_type": "code",
   "execution_count": 16,
   "id": "6d117327",
   "metadata": {},
   "outputs": [],
   "source": [
    "#F_BREEDING_TYPE\n",
    "F_BREEDING_TYPE=[]\n",
    "F_BREEDING_TYPE_dict=dict()\n",
    "for i in range(0,1600):\n",
    "    if temp_F_INCOME_dict[i+1]>=10000 and temp_F_INCOME_dict[i+1]<=15000:\n",
    "        F_BREEDING_TYPE_dict[i+1]=\"Natural\"\n",
    "    else:\n",
    "        F_BREEDING_TYPE_dict[i+1]=\"Artificial\""
   ]
  },
  {
   "cell_type": "code",
   "execution_count": 17,
   "id": "61084dc5",
   "metadata": {},
   "outputs": [],
   "source": [
    "#creating F_CATTLE_FEED_BAGS column\n",
    "F_CATTLE_FEED_BAGS=[]\n",
    "for i in F_NUMBER_OF_CATTLE:\n",
    "    if i>0 and i<=3:\n",
    "        F_CATTLE_FEED_BAGS.append(random.randint(1,2))\n",
    "    elif i>3 and i<=6:\n",
    "        F_CATTLE_FEED_BAGS.append(random.randint(3,4))\n",
    "    else:\n",
    "        F_CATTLE_FEED_BAGS.append(random.randint(5,6))        "
   ]
  },
  {
   "cell_type": "code",
   "execution_count": 18,
   "id": "cbeb171c",
   "metadata": {},
   "outputs": [],
   "source": [
    "#creating F_BRAND column\n",
    "F_BRAND=[]\n",
    "F_BRAND_dict=dict()\n",
    "for i in range(0,1600):\n",
    "    if temp_F_INCOME_dict[i+1]>=10000 and temp_F_INCOME_dict[i+1]<=15000:\n",
    "        F_BRAND_dict[i+1]=\"AB VISTA SOUTH ASIA\"\n",
    "    elif temp_F_INCOME_dict[i+1]>15000 and temp_F_INCOME_dict[i+1]<=20000:\n",
    "        F_BRAND_dict[i+1]=\"Gauri Shankar Cattle Feed\"\n",
    "    else:\n",
    "        F_BRAND_dict[i+1]=\"Kisan Fodder Mills Private Limited\"\n",
    "for i in F_ID:\n",
    "    F_BRAND.append(F_BRAND_dict[i])"
   ]
  },
  {
   "cell_type": "code",
   "execution_count": 19,
   "id": "38ee95be",
   "metadata": {},
   "outputs": [],
   "source": [
    "#creating F_SALES column\n",
    "F_SALES=[]\n",
    "brand_mapping_dict={\"Kisan Fodder Mills Private Limited\":1500,\"Gauri Shankar Cattle Feed\":1300,\"AB VISTA SOUTH ASIA\":1100}\n",
    "for i in range(0,5000):\n",
    "    result=brand_mapping_dict[F_BRAND[i]]*F_CATTLE_FEED_BAGS[i]\n",
    "    F_SALES.append(result)    "
   ]
  },
  {
   "cell_type": "code",
   "execution_count": 20,
   "id": "bf0bc617",
   "metadata": {},
   "outputs": [],
   "source": [
    "#creating F_DATE\n",
    "fake = Faker()\n",
    "\n",
    "random_dates = []\n",
    "for _ in range(5000):\n",
    "    random_date = fake.date_time_between_dates(datetime_start=datetime(2023, 1, 1), datetime_end=datetime(2023, 12, 31))\n",
    "    random_dates.append(random_date.strftime('%d/%m/%Y'))"
   ]
  },
  {
   "cell_type": "code",
   "execution_count": 21,
   "id": "5148d34e",
   "metadata": {},
   "outputs": [],
   "source": [
    "data01 = {'CC_ID': CC_ID, 'CC_NAME': CC_NAME, 'GS_ID': GS_ID, 'GS_NAME': GS_NAME, 'F_ID': F_ID, 'F_NAME': F_NAME,'F_CATTLE_FEED_BAGS':F_CATTLE_FEED_BAGS,'F_BRAND':F_BRAND,'F_SALES':F_SALES,'F_DATE':random_dates}\n",
    "df01 = pd.DataFrame(data01)"
   ]
  },
  {
   "cell_type": "code",
   "execution_count": 22,
   "id": "5001a098",
   "metadata": {},
   "outputs": [],
   "source": [
    "F_ID_unique=[]\n",
    "for i in range(0,1600):\n",
    "    F_ID_unique.append(i+1)\n",
    "\n",
    "F_NAME=[]\n",
    "for i in F_ID_unique:\n",
    "    F_NAME.append(temp_F_NAME_dict[i])\n",
    "    \n",
    "F_GENDER=[]\n",
    "for i in F_ID_unique:\n",
    "    F_GENDER.append(temp_F_GENDER_dict[i])\n",
    "    \n",
    "F_NUMBER=[]\n",
    "for i in F_ID_unique:\n",
    "    F_NUMBER.append(F_NUMBER_dict[i])\n",
    "    \n",
    "F_MEMBERS=[]\n",
    "for i in F_ID_unique:\n",
    "    F_MEMBERS.append(F_MEMBERS_dict[i])\n",
    "    \n",
    "F_INCOME_MONTHLY=[]\n",
    "for i in F_ID_unique:\n",
    "    F_INCOME_MONTHLY.append(temp_F_INCOME_dict[i])\n",
    "\n",
    "F_MAIN_SOURCE=[]\n",
    "for i in F_ID_unique:\n",
    "    F_MAIN_SOURCE.append(F_MAIN_SOURCE_dict[i])\n",
    "    \n",
    "F_NUMBER_OF_CATTLE=[]\n",
    "for i in F_ID_unique:\n",
    "    F_NUMBER_OF_CATTLE.append(F_NUMBER_OF_CATTLE_dict[i])\n",
    "\n",
    "F_COW=[]\n",
    "for i in F_ID_unique:\n",
    "    F_COW.append(cow_dict[i])\n",
    "\n",
    "F_BUFFALO=[]\n",
    "for i in F_ID_unique:\n",
    "    F_BUFFALO.append(buffalo_dict[i])\n",
    "\n",
    "F_BREEDING_TYPE=[]\n",
    "for i in F_ID_unique:\n",
    "    F_BREEDING_TYPE.append(F_BREEDING_TYPE_dict[i])"
   ]
  },
  {
   "cell_type": "code",
   "execution_count": 23,
   "id": "26c43a5c",
   "metadata": {},
   "outputs": [],
   "source": [
    "data02={'F_ID':F_ID_unique,'F_NAME':F_NAME,'F_GENDER':F_GENDER,'F_NUMBER':F_NUMBER,'F_MEMBERS':F_MEMBERS,'F_INCOME_MONTHLY':F_INCOME_MONTHLY,'F_MAIN_SOURCE':F_MAIN_SOURCE,'F_NUMBER_OF_CATTLE':F_NUMBER_OF_CATTLE,'F_COW':F_COW,'F_BUFFALO':F_BUFFALO,'F_BREEDING_TYPE':F_BREEDING_TYPE}\n",
    "df02=pd.DataFrame(data02)"
   ]
  },
  {
   "cell_type": "code",
   "execution_count": 24,
   "id": "9caea21f",
   "metadata": {},
   "outputs": [],
   "source": [
    "CC_ID_unique=[]\n",
    "for i in range(0,4):\n",
    "    CC_ID_unique.append(i+1)\n",
    "\n",
    "CC_NAME=[]\n",
    "for i in CC_ID_unique:\n",
    "    CC_NAME.append(temp_CC_NAME_dict[i])"
   ]
  },
  {
   "cell_type": "code",
   "execution_count": 25,
   "id": "350b39ca",
   "metadata": {},
   "outputs": [],
   "source": [
    "data03={'CC_ID':CC_ID_unique,'CC_NAME':CC_NAME}\n",
    "df03=pd.DataFrame(data03)"
   ]
  },
  {
   "cell_type": "code",
   "execution_count": 26,
   "id": "3a55bbde",
   "metadata": {},
   "outputs": [],
   "source": [
    "GS_ID_unique=[]\n",
    "for i in range(0,40):\n",
    "    GS_ID_unique.append(i+1)\n",
    "\n",
    "GS_NAME=[]\n",
    "for i in GS_ID_unique:\n",
    "    GS_NAME.append(temp_GS_NAME_dict[i])"
   ]
  },
  {
   "cell_type": "code",
   "execution_count": 27,
   "id": "b16887a9",
   "metadata": {},
   "outputs": [],
   "source": [
    "data04={'GS_ID':GS_ID_unique,'GS_NAME':GS_NAME}\n",
    "df04=pd.DataFrame(data04)"
   ]
  },
  {
   "cell_type": "code",
   "execution_count": 28,
   "id": "e386b2c6",
   "metadata": {},
   "outputs": [
    {
     "data": {
      "text/plain": [
       "(5000, 10)"
      ]
     },
     "execution_count": 28,
     "metadata": {},
     "output_type": "execute_result"
    }
   ],
   "source": [
    "df01.shape"
   ]
  },
  {
   "cell_type": "code",
   "execution_count": 29,
   "id": "297303c9",
   "metadata": {
    "scrolled": true
   },
   "outputs": [
    {
     "data": {
      "text/plain": [
       "(1600, 11)"
      ]
     },
     "execution_count": 29,
     "metadata": {},
     "output_type": "execute_result"
    }
   ],
   "source": [
    "df02.shape"
   ]
  },
  {
   "cell_type": "code",
   "execution_count": 30,
   "id": "f881afb4",
   "metadata": {},
   "outputs": [
    {
     "data": {
      "text/plain": [
       "(4, 2)"
      ]
     },
     "execution_count": 30,
     "metadata": {},
     "output_type": "execute_result"
    }
   ],
   "source": [
    "df03.shape"
   ]
  },
  {
   "cell_type": "code",
   "execution_count": 31,
   "id": "dc20777a",
   "metadata": {},
   "outputs": [
    {
     "data": {
      "text/plain": [
       "(40, 2)"
      ]
     },
     "execution_count": 31,
     "metadata": {},
     "output_type": "execute_result"
    }
   ],
   "source": [
    "df04.shape"
   ]
  },
  {
   "cell_type": "code",
   "execution_count": 32,
   "id": "7bb7af8b",
   "metadata": {},
   "outputs": [],
   "source": [
    "df01.to_excel('pvk_data_fact.xlsx', index=False)"
   ]
  },
  {
   "cell_type": "code",
   "execution_count": 33,
   "id": "41669db0",
   "metadata": {},
   "outputs": [],
   "source": [
    "df02.to_excel('pvk_data_dimension_F.xlsx', index=False)"
   ]
  },
  {
   "cell_type": "code",
   "execution_count": 34,
   "id": "78898870",
   "metadata": {},
   "outputs": [],
   "source": [
    "df03.to_excel('pvk_data_dimension_CC.xlsx', index=False)"
   ]
  },
  {
   "cell_type": "code",
   "execution_count": 35,
   "id": "8c546111",
   "metadata": {},
   "outputs": [],
   "source": [
    "df04.to_excel('pvk_data_dimension_GS.xlsx', index=False)"
   ]
  }
 ],
 "metadata": {
  "kernelspec": {
   "display_name": "Python 3 (ipykernel)",
   "language": "python",
   "name": "python3"
  },
  "language_info": {
   "codemirror_mode": {
    "name": "ipython",
    "version": 3
   },
   "file_extension": ".py",
   "mimetype": "text/x-python",
   "name": "python",
   "nbconvert_exporter": "python",
   "pygments_lexer": "ipython3",
   "version": "3.9.13"
  }
 },
 "nbformat": 4,
 "nbformat_minor": 5
}
